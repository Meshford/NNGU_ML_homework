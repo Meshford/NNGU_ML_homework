{
 "cells": [
  {
   "cell_type": "markdown",
   "metadata": {},
   "source": [
    "# HR Analytics: Job Change of Data Scientists"
   ]
  },
  {
   "cell_type": "markdown",
   "metadata": {},
   "source": [
    "A company which is active in Big Data and Data Science wants to hire data scientists among people who successfully pass some courses which conduct by the company. Many people signup for their training. Company wants to know which of these candidates are really wants to work for the company after training or looking for a new employment because it helps to reduce the cost and time as well as the quality of training or planning the courses and categorization of candidates. Information related to demographics, education, experience are in hands from candidates signup and enrollment.\n",
    "\n",
    "This dataset designed to understand the factors that lead a person to leave current job for HR researches too. By model(s) that uses the current credentials,demographics,experience data you will predict the probability of a candidate to look for a new job or will work for the company, as well as interpreting affected factors on employee decision.\n",
    "\n",
    "**So, we need to predict the target (0, 1) field, which means whether a person will work in a company or not.**"
   ]
  },
  {
   "cell_type": "markdown",
   "metadata": {},
   "source": [
    "Features: \n",
    "    1. enrollee_id: Unique ID for candidate \n",
    "    2. city: City code \n",
    "    3. city_ development _index : Developement index of the city (scaled) \n",
    "    4. gender: Gender of candidate \n",
    "    5. relevent_experience: Relevant experience of candidate (To Data Science) \n",
    "    6. enrolled_university: Type of University course enrolled  \n",
    "    7. education_level: Education level of candidate \n",
    "    8. major_discipline: Education major discipline of candidate \n",
    "    9. experience: Candidate total experience in years \n",
    "    10. company_size: No of employees in current employer's company \n",
    "    11. company_type: Type of current employer \n",
    "    12. lastnewjob: Difference in years between previous job and current job \n",
    "    13. training_hours: training hours completed \n",
    "    14. target: 0 – Not looking for job change, 1 – Looking for a job change"
   ]
  },
  {
   "cell_type": "code",
   "execution_count": 1,
   "metadata": {},
   "outputs": [],
   "source": [
    "import pandas as pd\n",
    "import numpy as np\n",
    "import seaborn as sb\n",
    "import plotly.express as px\n",
    "from matplotlib import pyplot as plt\n",
    "from sklearn.preprocessing import LabelEncoder, StandardScaler, OrdinalEncoder,PowerTransformer,MinMaxScaler\n",
    "from sklearn.experimental import enable_iterative_imputer\n",
    "from sklearn.impute import IterativeImputer\n",
    "from sklearn.linear_model import LinearRegression,LogisticRegression\n",
    "from sklearn.model_selection import train_test_split\n",
    "import numpy as np\n",
    "from sklearn.metrics import auc, accuracy_score, confusion_matrix, f1_score, classification_report\n",
    "from sklearn.neighbors import KNeighborsClassifier\n",
    "from sklearn.model_selection import GridSearchCV\n",
    "from sklearn.model_selection import StratifiedKFold\n",
    "from sklearn.neural_network import MLPClassifier\n",
    "from sklearn.model_selection import KFold\n",
    "from imblearn.over_sampling import SMOTE,ADASYN, SVMSMOTE\n",
    "from sklearn.linear_model import Perceptron\n",
    "from sklearn.model_selection import GridSearchCV\n",
    "from sklearn.preprocessing import OneHotEncoder\n",
    "from sklearn.model_selection import RandomizedSearchCV,GridSearchCV\n",
    "from sklearn import metrics\n",
    "from sklearn.compose import make_column_transformer\n",
    "#import category_encoders as ce\n",
    "from collections import Counter\n",
    "import warnings\n",
    "warnings.filterwarnings('ignore')"
   ]
  },
  {
   "cell_type": "markdown",
   "metadata": {},
   "source": [
    "## 1. Reading data"
   ]
  },
  {
   "cell_type": "code",
   "execution_count": 2,
   "metadata": {},
   "outputs": [
    {
     "data": {
      "text/html": [
       "<div>\n",
       "<style scoped>\n",
       "    .dataframe tbody tr th:only-of-type {\n",
       "        vertical-align: middle;\n",
       "    }\n",
       "\n",
       "    .dataframe tbody tr th {\n",
       "        vertical-align: top;\n",
       "    }\n",
       "\n",
       "    .dataframe thead th {\n",
       "        text-align: right;\n",
       "    }\n",
       "</style>\n",
       "<table border=\"1\" class=\"dataframe\">\n",
       "  <thead>\n",
       "    <tr style=\"text-align: right;\">\n",
       "      <th></th>\n",
       "      <th>enrollee_id</th>\n",
       "      <th>city</th>\n",
       "      <th>city_development_index</th>\n",
       "      <th>gender</th>\n",
       "      <th>relevent_experience</th>\n",
       "      <th>enrolled_university</th>\n",
       "      <th>education_level</th>\n",
       "      <th>major_discipline</th>\n",
       "      <th>experience</th>\n",
       "      <th>company_size</th>\n",
       "      <th>company_type</th>\n",
       "      <th>last_new_job</th>\n",
       "      <th>training_hours</th>\n",
       "      <th>target</th>\n",
       "    </tr>\n",
       "  </thead>\n",
       "  <tbody>\n",
       "    <tr>\n",
       "      <th>0</th>\n",
       "      <td>8949</td>\n",
       "      <td>city_103</td>\n",
       "      <td>0.920</td>\n",
       "      <td>Male</td>\n",
       "      <td>Has relevent experience</td>\n",
       "      <td>no_enrollment</td>\n",
       "      <td>Graduate</td>\n",
       "      <td>STEM</td>\n",
       "      <td>&gt;20</td>\n",
       "      <td>NaN</td>\n",
       "      <td>NaN</td>\n",
       "      <td>1</td>\n",
       "      <td>36</td>\n",
       "      <td>1.0</td>\n",
       "    </tr>\n",
       "    <tr>\n",
       "      <th>1</th>\n",
       "      <td>29725</td>\n",
       "      <td>city_40</td>\n",
       "      <td>0.776</td>\n",
       "      <td>Male</td>\n",
       "      <td>No relevent experience</td>\n",
       "      <td>no_enrollment</td>\n",
       "      <td>Graduate</td>\n",
       "      <td>STEM</td>\n",
       "      <td>15</td>\n",
       "      <td>50-99</td>\n",
       "      <td>Pvt Ltd</td>\n",
       "      <td>&gt;4</td>\n",
       "      <td>47</td>\n",
       "      <td>0.0</td>\n",
       "    </tr>\n",
       "    <tr>\n",
       "      <th>2</th>\n",
       "      <td>11561</td>\n",
       "      <td>city_21</td>\n",
       "      <td>0.624</td>\n",
       "      <td>NaN</td>\n",
       "      <td>No relevent experience</td>\n",
       "      <td>Full time course</td>\n",
       "      <td>Graduate</td>\n",
       "      <td>STEM</td>\n",
       "      <td>5</td>\n",
       "      <td>NaN</td>\n",
       "      <td>NaN</td>\n",
       "      <td>never</td>\n",
       "      <td>83</td>\n",
       "      <td>0.0</td>\n",
       "    </tr>\n",
       "    <tr>\n",
       "      <th>3</th>\n",
       "      <td>33241</td>\n",
       "      <td>city_115</td>\n",
       "      <td>0.789</td>\n",
       "      <td>NaN</td>\n",
       "      <td>No relevent experience</td>\n",
       "      <td>NaN</td>\n",
       "      <td>Graduate</td>\n",
       "      <td>Business Degree</td>\n",
       "      <td>&lt;1</td>\n",
       "      <td>NaN</td>\n",
       "      <td>Pvt Ltd</td>\n",
       "      <td>never</td>\n",
       "      <td>52</td>\n",
       "      <td>1.0</td>\n",
       "    </tr>\n",
       "    <tr>\n",
       "      <th>4</th>\n",
       "      <td>666</td>\n",
       "      <td>city_162</td>\n",
       "      <td>0.767</td>\n",
       "      <td>Male</td>\n",
       "      <td>Has relevent experience</td>\n",
       "      <td>no_enrollment</td>\n",
       "      <td>Masters</td>\n",
       "      <td>STEM</td>\n",
       "      <td>&gt;20</td>\n",
       "      <td>50-99</td>\n",
       "      <td>Funded Startup</td>\n",
       "      <td>4</td>\n",
       "      <td>8</td>\n",
       "      <td>0.0</td>\n",
       "    </tr>\n",
       "  </tbody>\n",
       "</table>\n",
       "</div>"
      ],
      "text/plain": [
       "   enrollee_id      city  city_development_index gender  \\\n",
       "0         8949  city_103                   0.920   Male   \n",
       "1        29725   city_40                   0.776   Male   \n",
       "2        11561   city_21                   0.624    NaN   \n",
       "3        33241  city_115                   0.789    NaN   \n",
       "4          666  city_162                   0.767   Male   \n",
       "\n",
       "       relevent_experience enrolled_university education_level  \\\n",
       "0  Has relevent experience       no_enrollment        Graduate   \n",
       "1   No relevent experience       no_enrollment        Graduate   \n",
       "2   No relevent experience    Full time course        Graduate   \n",
       "3   No relevent experience                 NaN        Graduate   \n",
       "4  Has relevent experience       no_enrollment         Masters   \n",
       "\n",
       "  major_discipline experience company_size    company_type last_new_job  \\\n",
       "0             STEM        >20          NaN             NaN            1   \n",
       "1             STEM         15        50-99         Pvt Ltd           >4   \n",
       "2             STEM          5          NaN             NaN        never   \n",
       "3  Business Degree         <1          NaN         Pvt Ltd        never   \n",
       "4             STEM        >20        50-99  Funded Startup            4   \n",
       "\n",
       "   training_hours  target  \n",
       "0              36     1.0  \n",
       "1              47     0.0  \n",
       "2              83     0.0  \n",
       "3              52     1.0  \n",
       "4               8     0.0  "
      ]
     },
     "execution_count": 2,
     "metadata": {},
     "output_type": "execute_result"
    }
   ],
   "source": [
    "df_train=pd.read_csv(\"aug_train.csv\")\n",
    "\n",
    "df_train.head()"
   ]
  },
  {
   "cell_type": "code",
   "execution_count": 3,
   "metadata": {},
   "outputs": [
    {
     "name": "stdout",
     "output_type": "stream",
     "text": [
      "<class 'pandas.core.frame.DataFrame'>\n",
      "RangeIndex: 19158 entries, 0 to 19157\n",
      "Data columns (total 14 columns):\n",
      " #   Column                  Non-Null Count  Dtype  \n",
      "---  ------                  --------------  -----  \n",
      " 0   enrollee_id             19158 non-null  int64  \n",
      " 1   city                    19158 non-null  object \n",
      " 2   city_development_index  19158 non-null  float64\n",
      " 3   gender                  14650 non-null  object \n",
      " 4   relevent_experience     19158 non-null  object \n",
      " 5   enrolled_university     18772 non-null  object \n",
      " 6   education_level         18698 non-null  object \n",
      " 7   major_discipline        16345 non-null  object \n",
      " 8   experience              19093 non-null  object \n",
      " 9   company_size            13220 non-null  object \n",
      " 10  company_type            13018 non-null  object \n",
      " 11  last_new_job            18735 non-null  object \n",
      " 12  training_hours          19158 non-null  int64  \n",
      " 13  target                  19158 non-null  float64\n",
      "dtypes: float64(2), int64(2), object(10)\n",
      "memory usage: 2.0+ MB\n"
     ]
    }
   ],
   "source": [
    "df_train.info()"
   ]
  },
  {
   "cell_type": "markdown",
   "metadata": {},
   "source": [
    "Let`s see unique value"
   ]
  },
  {
   "cell_type": "code",
   "execution_count": 4,
   "metadata": {},
   "outputs": [
    {
     "name": "stdout",
     "output_type": "stream",
     "text": [
      "(19158, 14)\n",
      "['Has relevent experience' 'No relevent experience']\n",
      "['no_enrollment' 'Full time course' nan 'Part time course']\n",
      "['Graduate' 'Masters' 'High School' nan 'Phd' 'Primary School']\n",
      "['STEM' 'Business Degree' nan 'Arts' 'Humanities' 'No Major' 'Other']\n",
      "['>20' '15' '5' '<1' '11' '13' '7' '17' '2' '16' '1' '4' '10' '14' '18'\n",
      " '19' '12' '3' '6' '9' '8' '20' nan]\n",
      "[nan '50-99' '<10' '10000+' '5000-9999' '1000-4999' '10/49' '100-500'\n",
      " '500-999']\n",
      "[nan 'Pvt Ltd' 'Funded Startup' 'Early Stage Startup' 'Other'\n",
      " 'Public Sector' 'NGO']\n",
      "['1' '>4' 'never' '4' '3' '2' nan]\n"
     ]
    }
   ],
   "source": [
    "print(df_train.shape)\n",
    "print(df_train['relevent_experience'].unique())\n",
    "print(df_train['enrolled_university'].unique())\n",
    "print(df_train['education_level'].unique())\n",
    "print(df_train['major_discipline'].unique())\n",
    "print(df_train['experience'].unique())\n",
    "print(df_train['company_size'].unique())\n",
    "print(df_train['company_type'].unique())\n",
    "print(df_train['last_new_job'].unique())"
   ]
  },
  {
   "cell_type": "code",
   "execution_count": 5,
   "metadata": {},
   "outputs": [
    {
     "data": {
      "text/html": [
       "<div>\n",
       "<style scoped>\n",
       "    .dataframe tbody tr th:only-of-type {\n",
       "        vertical-align: middle;\n",
       "    }\n",
       "\n",
       "    .dataframe tbody tr th {\n",
       "        vertical-align: top;\n",
       "    }\n",
       "\n",
       "    .dataframe thead th {\n",
       "        text-align: right;\n",
       "    }\n",
       "</style>\n",
       "<table border=\"1\" class=\"dataframe\">\n",
       "  <thead>\n",
       "    <tr style=\"text-align: right;\">\n",
       "      <th></th>\n",
       "      <th>No of null values</th>\n",
       "      <th>Percentage of null values</th>\n",
       "    </tr>\n",
       "  </thead>\n",
       "  <tbody>\n",
       "    <tr>\n",
       "      <th>gender</th>\n",
       "      <td>4508</td>\n",
       "      <td>23.530640</td>\n",
       "    </tr>\n",
       "    <tr>\n",
       "      <th>enrolled_university</th>\n",
       "      <td>386</td>\n",
       "      <td>2.014824</td>\n",
       "    </tr>\n",
       "    <tr>\n",
       "      <th>education_level</th>\n",
       "      <td>460</td>\n",
       "      <td>2.401086</td>\n",
       "    </tr>\n",
       "    <tr>\n",
       "      <th>major_discipline</th>\n",
       "      <td>2813</td>\n",
       "      <td>14.683161</td>\n",
       "    </tr>\n",
       "    <tr>\n",
       "      <th>experience</th>\n",
       "      <td>65</td>\n",
       "      <td>0.339284</td>\n",
       "    </tr>\n",
       "    <tr>\n",
       "      <th>company_size</th>\n",
       "      <td>5938</td>\n",
       "      <td>30.994885</td>\n",
       "    </tr>\n",
       "    <tr>\n",
       "      <th>company_type</th>\n",
       "      <td>6140</td>\n",
       "      <td>32.049274</td>\n",
       "    </tr>\n",
       "    <tr>\n",
       "      <th>last_new_job</th>\n",
       "      <td>423</td>\n",
       "      <td>2.207955</td>\n",
       "    </tr>\n",
       "  </tbody>\n",
       "</table>\n",
       "</div>"
      ],
      "text/plain": [
       "                     No of null values  Percentage of null values\n",
       "gender                            4508                  23.530640\n",
       "enrolled_university                386                   2.014824\n",
       "education_level                    460                   2.401086\n",
       "major_discipline                  2813                  14.683161\n",
       "experience                          65                   0.339284\n",
       "company_size                      5938                  30.994885\n",
       "company_type                      6140                  32.049274\n",
       "last_new_job                       423                   2.207955"
      ]
     },
     "execution_count": 5,
     "metadata": {},
     "output_type": "execute_result"
    }
   ],
   "source": [
    "null = pd.DataFrame({'No of null values':df_train.isnull().sum(),'Percentage of null values':df_train.isnull().sum()*100/df_train.shape[0]})\n",
    "null[null['No of null values'] > 0]"
   ]
  },
  {
   "cell_type": "markdown",
   "metadata": {},
   "source": [
    "Now let`s see distribition of our target "
   ]
  },
  {
   "cell_type": "code",
   "execution_count": 6,
   "metadata": {},
   "outputs": [
    {
     "name": "stdout",
     "output_type": "stream",
     "text": [
      "0.0    14381\n",
      "1.0     4777\n",
      "Name: target, dtype: int64\n"
     ]
    },
    {
     "data": {
      "image/png": "[encoded data removed]",
      "text/plain": [
       "<Figure size 432x432 with 1 Axes>"
      ]
     },
     "metadata": {
      "needs_background": "light"
     },
     "output_type": "display_data"
    }
   ],
   "source": [
    "count = df_train.target.value_counts()\n",
    "print( count )\n",
    "plt.figure(figsize = (6,6))\n",
    "sb.countplot(df_train.target,color = sb.color_palette()[0]);\n",
    "plt.title('distribution of target');\n",
    "plt.xlabel('target values');\n",
    "plt.ylabel('count');\n",
    "for i in range(count.shape[0]):\n",
    "    plt.text( \n",
    "            i,\n",
    "            count[i] + 500,\n",
    "            str(round(100*count[i] /df_train.target.count()))+'%',\n",
    "              ha='center',\n",
    "              va = 'top')"
   ]
  },
  {
   "cell_type": "markdown",
   "metadata": {},
   "source": [
    "We can notice that the data is imbalanced."
   ]
  },
  {
   "cell_type": "markdown",
   "metadata": {},
   "source": [
    "Before start collect descriptive statistics and vizualize our data, let`s preprocessing data."
   ]
  },
  {
   "cell_type": "markdown",
   "metadata": {},
   "source": [
    "## 2. Exploring data. Visualization and Preprocessing data."
   ]
  },
  {
   "cell_type": "markdown",
   "metadata": {},
   "source": [
    "**We can see that our dataset contains 19158 entries and 14 columns. We have 4 numerical variables and 10 categorical variables**"
   ]
  },
  {
   "cell_type": "code",
   "execution_count": 7,
   "metadata": {},
   "outputs": [
    {
     "data": {
      "text/plain": [
       "50-99        3083\n",
       "100-500      2571\n",
       "10000+       2019\n",
       "10-49        1471\n",
       "1000-4999    1328\n",
       "<10          1308\n",
       "500-999       877\n",
       "5000-9999     563\n",
       "Name: company_size, dtype: int64"
      ]
     },
     "execution_count": 7,
     "metadata": {},
     "output_type": "execute_result"
    }
   ],
   "source": [
    "df_train['company_size'] = df_train['company_size'].replace('10/49', '10-49')\n",
    "df_train['company_size'].value_counts()"
   ]
  },
  {
   "cell_type": "markdown",
   "metadata": {},
   "source": [
    "Drop id of employee, cause we are not interested in it:"
   ]
  },
  {
   "cell_type": "code",
   "execution_count": 8,
   "metadata": {},
   "outputs": [
    {
     "data": {
      "text/plain": [
       "(19158, 13)"
      ]
     },
     "execution_count": 8,
     "metadata": {},
     "output_type": "execute_result"
    }
   ],
   "source": [
    "df_train.drop(['enrollee_id'], axis = 1, inplace=True)\n",
    "df_train.shape"
   ]
  },
  {
   "cell_type": "markdown",
   "metadata": {},
   "source": [
    "### Training hours"
   ]
  },
  {
   "cell_type": "code",
   "execution_count": 9,
   "metadata": {},
   "outputs": [
    {
     "data": {
      "image/png": "[encoded data removed]",
      "text/plain": [
       "<Figure size 648x288 with 1 Axes>"
      ]
     },
     "metadata": {
      "needs_background": "light"
     },
     "output_type": "display_data"
    }
   ],
   "source": [
    "plt.figure(figsize=(9,4))\n",
    "plt.hist(df_train[\"training_hours\"], color= sb.color_palette()[0] ,bins=50)\n",
    "plt.ylabel(\"Frequency\")\n",
    "plt.title('training_hours')\n",
    "plt.show()"
   ]
  },
  {
   "cell_type": "code",
   "execution_count": 10,
   "metadata": {},
   "outputs": [
    {
     "data": {
      "text/plain": [
       "<matplotlib.axes._subplots.AxesSubplot at 0x1a2ab72d7c0>"
      ]
     },
     "execution_count": 10,
     "metadata": {},
     "output_type": "execute_result"
    },
    {
     "data": {
      "image/png": "[encoded data removed]",
      "text/plain": [
       "<Figure size 432x288 with 1 Axes>"
      ]
     },
     "metadata": {
      "needs_background": "light"
     },
     "output_type": "display_data"
    }
   ],
   "source": [
    "df_train[['training_hours']].boxplot()"
   ]
  },
  {
   "cell_type": "markdown",
   "metadata": {},
   "source": [
    "We may see, that we have many outliers in this feature:"
   ]
  },
  {
   "cell_type": "code",
   "execution_count": 11,
   "metadata": {},
   "outputs": [
    {
     "name": "stdout",
     "output_type": "stream",
     "text": [
      "city_development_index Lower outliers =  0\n",
      "city_development_index Upper outliers =  984\n"
     ]
    }
   ],
   "source": [
    "IQR = df_train[['training_hours']].quantile(0.75) - df_train[['training_hours']].quantile(0.25)\n",
    "\n",
    "\n",
    "lower_boundary = df_train[['training_hours']].quantile(0.25) - (IQR * 1.5)\n",
    "upper_boundary = df_train[['training_hours']].quantile(0.75) + (IQR * 1.5)\n",
    "print('city_development_index Lower outliers = ',df_train.loc[(df_train['training_hours']<lower_boundary[0])].shape[0])\n",
    "print('city_development_index Upper outliers = ',df_train.loc[(df_train['training_hours']>upper_boundary[0])].shape[0])"
   ]
  },
  {
   "cell_type": "markdown",
   "metadata": {},
   "source": [
    "### City development index"
   ]
  },
  {
   "cell_type": "code",
   "execution_count": 12,
   "metadata": {},
   "outputs": [
    {
     "data": {
      "image/png": "[encoded data removed]",
      "text/plain": [
       "<Figure size 648x288 with 1 Axes>"
      ]
     },
     "metadata": {
      "needs_background": "light"
     },
     "output_type": "display_data"
    }
   ],
   "source": [
    "plt.figure(figsize=(9,4))\n",
    "plt.hist(df_train[\"city_development_index\"], color= sb.color_palette()[0] ,bins=20)\n",
    "plt.ylabel(\"Frequency\")\n",
    "plt.title('City development index')\n",
    "plt.show()"
   ]
  },
  {
   "cell_type": "code",
   "execution_count": 13,
   "metadata": {},
   "outputs": [
    {
     "data": {
      "text/plain": [
       "<matplotlib.axes._subplots.AxesSubplot at 0x1a2aba76fd0>"
      ]
     },
     "execution_count": 13,
     "metadata": {},
     "output_type": "execute_result"
    },
    {
     "data": {
      "image/png": "[encoded data removed]",
      "text/plain": [
       "<Figure size 432x288 with 1 Axes>"
      ]
     },
     "metadata": {
      "needs_background": "light"
     },
     "output_type": "display_data"
    }
   ],
   "source": [
    "df_train[['city_development_index']].boxplot()"
   ]
  },
  {
   "cell_type": "markdown",
   "metadata": {},
   "source": [
    "We need to transform city development index before applying the model"
   ]
  },
  {
   "cell_type": "code",
   "execution_count": 14,
   "metadata": {},
   "outputs": [
    {
     "data": {
      "text/plain": [
       "array([[<matplotlib.axes._subplots.AxesSubplot object at 0x000001A2ABAC8CD0>]],\n",
       "      dtype=object)"
      ]
     },
     "execution_count": 14,
     "metadata": {},
     "output_type": "execute_result"
    },
    {
     "data": {
      "image/png": "[encoded data removed]",
      "text/plain": [
       "<Figure size 432x288 with 1 Axes>"
      ]
     },
     "metadata": {
      "needs_background": "light"
     },
     "output_type": "display_data"
    }
   ],
   "source": [
    "from sklearn.preprocessing import PowerTransformer\n",
    "pt = PowerTransformer(method='box-cox')\n",
    "pt.fit(df_train['city_development_index'].values.reshape(-1,1))\n",
    "tr = pt.transform(df_train['city_development_index'].values.reshape(-1,1))\n",
    "df_train['city_development_index'] = pd.DataFrame(tr)\n",
    "pd.DataFrame(tr).hist()"
   ]
  },
  {
   "cell_type": "markdown",
   "metadata": {},
   "source": [
    "### Gender"
   ]
  },
  {
   "cell_type": "code",
   "execution_count": 15,
   "metadata": {},
   "outputs": [
    {
     "name": "stdout",
     "output_type": "stream",
     "text": [
      "Male      13221\n",
      "Female     1238\n",
      "Other       191\n",
      "Name: gender, dtype: int64\n"
     ]
    },
    {
     "data": {
      "image/png": "[encoded data removed]",
      "text/plain": [
       "<Figure size 432x432 with 1 Axes>"
      ]
     },
     "metadata": {
      "needs_background": "light"
     },
     "output_type": "display_data"
    }
   ],
   "source": [
    "df=pd.read_csv(\"aug_train.csv\")\n",
    "count = df.gender.value_counts()\n",
    "print( count )\n",
    "plt.figure(figsize = (6,6))\n",
    "sb.countplot(df.gender,color = sb.color_palette()[0]);\n",
    "plt.title('distribution of gender');\n",
    "plt.xlabel('gender');\n",
    "plt.ylabel('count');\n",
    "for i in range(count.shape[0]):\n",
    "    plt.text( \n",
    "            i,\n",
    "            count[i] + 500,\n",
    "            str(round(100*count[i] / df.gender.count()))+'%',\n",
    "              ha='center',\n",
    "              va = 'top')"
   ]
  },
  {
   "cell_type": "markdown",
   "metadata": {},
   "source": [
    "We can notice, more than 90% of men participate in our research"
   ]
  },
  {
   "cell_type": "markdown",
   "metadata": {},
   "source": [
    "### Relevant Experience"
   ]
  },
  {
   "cell_type": "code",
   "execution_count": 16,
   "metadata": {},
   "outputs": [
    {
     "name": "stdout",
     "output_type": "stream",
     "text": [
      "Has relevent experience    13792\n",
      "No relevent experience      5366\n",
      "Name: relevent_experience, dtype: int64\n"
     ]
    },
    {
     "data": {
      "image/png": "[encoded data removed]",
      "text/plain": [
       "<Figure size 432x432 with 1 Axes>"
      ]
     },
     "metadata": {
      "needs_background": "light"
     },
     "output_type": "display_data"
    }
   ],
   "source": [
    "count = df.relevent_experience.value_counts()\n",
    "print( count )\n",
    "plt.figure(figsize = (6,6))\n",
    "sb.countplot(df.relevent_experience,color = sb.color_palette()[0]);\n",
    "plt.title('Relevant Experience');\n",
    "plt.xlabel('Relevant Experience');\n",
    "plt.ylabel('count');\n",
    "for i in range(count.shape[0]):\n",
    "    plt.text( \n",
    "            i,\n",
    "            count[i] + 500,\n",
    "            str(round(100*count[i] / df.relevent_experience.count()))+'%',\n",
    "              ha='center',\n",
    "              va = 'top')"
   ]
  },
  {
   "cell_type": "markdown",
   "metadata": {},
   "source": [
    "How we can see, over 72% has relevant experience"
   ]
  },
  {
   "cell_type": "markdown",
   "metadata": {},
   "source": [
    "### Education Level"
   ]
  },
  {
   "cell_type": "code",
   "execution_count": 17,
   "metadata": {},
   "outputs": [
    {
     "name": "stdout",
     "output_type": "stream",
     "text": [
      "Graduate          11598\n",
      "Masters            4361\n",
      "High School        2017\n",
      "Phd                 414\n",
      "Primary School      308\n",
      "Name: education_level, dtype: int64\n"
     ]
    },
    {
     "data": {
      "image/png": "[encoded data removed]",
      "text/plain": [
       "<Figure size 864x432 with 1 Axes>"
      ]
     },
     "metadata": {
      "needs_background": "light"
     },
     "output_type": "display_data"
    }
   ],
   "source": [
    "count = df.education_level.value_counts()\n",
    "print( count )\n",
    "plt.figure(figsize=(12,6))\n",
    "sb.countplot(df.education_level,color = sb.color_palette()[0]);\n",
    "plt.title('Education Level');\n",
    "plt.xlabel('Education Level');\n",
    "plt.ylabel('count');\n",
    "for i in range(count.shape[0]):\n",
    "    plt.text( \n",
    "            i,\n",
    "            count[i] + 400,\n",
    "            str(round(100*count[i] / df.education_level.count()))+'%',\n",
    "              ha='center',\n",
    "              va = 'top')"
   ]
  },
  {
   "cell_type": "markdown",
   "metadata": {},
   "source": [
    "As well, above 62% has Bachelor`s education"
   ]
  },
  {
   "cell_type": "markdown",
   "metadata": {},
   "source": [
    "### Major Discipline"
   ]
  },
  {
   "cell_type": "code",
   "execution_count": 18,
   "metadata": {},
   "outputs": [
    {
     "name": "stdout",
     "output_type": "stream",
     "text": [
      "STEM               14492\n",
      "Humanities           669\n",
      "Other                381\n",
      "Business Degree      327\n",
      "Arts                 253\n",
      "No Major             223\n",
      "Name: major_discipline, dtype: int64\n"
     ]
    },
    {
     "data": {
      "image/png": "[encoded data removed]",
      "text/plain": [
       "<Figure size 1440x576 with 1 Axes>"
      ]
     },
     "metadata": {
      "needs_background": "light"
     },
     "output_type": "display_data"
    }
   ],
   "source": [
    "count = df.major_discipline.value_counts()\n",
    "print( count )\n",
    "order = count.index\n",
    "plt.figure(figsize=(20,8))\n",
    "sb.countplot(df.major_discipline ,color = sb.color_palette()[0],order=order);\n",
    "plt.title('Major Discipline');\n",
    "plt.xlabel('Major Discipline');\n",
    "plt.ylabel('count');\n",
    "for i in range(count.shape[0]):\n",
    "    plt.text( \n",
    "            i,\n",
    "            count[i] + 500,\n",
    "            str(round(100*count[i] / df.major_discipline.count()))+'%',\n",
    "              ha='center',\n",
    "              va = 'top')"
   ]
  },
  {
   "cell_type": "markdown",
   "metadata": {},
   "source": [
    "### Experience"
   ]
  },
  {
   "cell_type": "code",
   "execution_count": 19,
   "metadata": {},
   "outputs": [
    {
     "data": {
      "text/plain": [
       ">20    3286\n",
       "5      1430\n",
       "4      1403\n",
       "3      1354\n",
       "6      1216\n",
       "2      1127\n",
       "7      1028\n",
       "10      985\n",
       "9       980\n",
       "8       802\n",
       "15      686\n",
       "11      664\n",
       "14      586\n",
       "1       549\n",
       "<1      522\n",
       "16      508\n",
       "12      494\n",
       "13      399\n",
       "17      342\n",
       "19      304\n",
       "18      280\n",
       "20      148\n",
       "Name: experience, dtype: int64"
      ]
     },
     "execution_count": 19,
     "metadata": {},
     "output_type": "execute_result"
    }
   ],
   "source": [
    "df_train['experience'].value_counts()"
   ]
  },
  {
   "cell_type": "markdown",
   "metadata": {},
   "source": [
    "There are lots of categories so we will transform them into 6 categories"
   ]
  },
  {
   "cell_type": "code",
   "execution_count": 20,
   "metadata": {},
   "outputs": [],
   "source": [
    "df_train['experience'].replace({'1':'1-5',\n",
    "                                '2':'1-5',\n",
    "                                '3':'1-5',\n",
    "                                '4':'1-5',\n",
    "                                '5':'1-5',\n",
    "                                '6':'6-10',\n",
    "                                '7':'6-10',\n",
    "                                '8':'6-10',\n",
    "                                '9':'6-10',\n",
    "                                '10':'6-10',\n",
    "                                '11':'11-15',\n",
    "                                '12':'11-15',\n",
    "                                '13':'11-15',\n",
    "                                '14':'11-15',\n",
    "                                '15':'11-15',\n",
    "                                '16':'16-20',\n",
    "                                '17':'16-20',\n",
    "                                '18':'16-20',\n",
    "                                '19':'16-20',\n",
    "                                '20':'16-20'},inplace=True)"
   ]
  },
  {
   "cell_type": "code",
   "execution_count": 21,
   "metadata": {},
   "outputs": [
    {
     "data": {
      "text/plain": [
       "1-5      5863\n",
       "6-10     5011\n",
       ">20      3286\n",
       "11-15    2829\n",
       "16-20    1582\n",
       "<1        522\n",
       "Name: experience, dtype: int64"
      ]
     },
     "execution_count": 21,
     "metadata": {},
     "output_type": "execute_result"
    }
   ],
   "source": [
    "count = df_train.experience.value_counts()\n",
    "count"
   ]
  },
  {
   "cell_type": "code",
   "execution_count": 22,
   "metadata": {},
   "outputs": [
    {
     "name": "stdout",
     "output_type": "stream",
     "text": [
      "1-5      5863\n",
      "6-10     5011\n",
      ">20      3286\n",
      "11-15    2829\n",
      "16-20    1582\n",
      "<1        522\n",
      "Name: experience, dtype: int64\n"
     ]
    },
    {
     "data": {
      "text/plain": [
       "Text(5, 3486, '17%')"
      ]
     },
     "execution_count": 22,
     "metadata": {},
     "output_type": "execute_result"
    },
    {
     "data": {
      "image/png": "[encoded data removed]",
      "text/plain": [
       "<Figure size 1440x576 with 1 Axes>"
      ]
     },
     "metadata": {
      "needs_background": "light"
     },
     "output_type": "display_data"
    }
   ],
   "source": [
    "count = df_train.experience.value_counts()\n",
    "print( count )\n",
    "plt.figure(figsize=(20,8))\n",
    "order=['<1','1-5','6-10','11-15','16-20','>20' ]\n",
    "sb.countplot(df_train.experience ,color = sb.color_palette()[0], order=order );\n",
    "plt.title('Experience');\n",
    "plt.xlabel('Years of Experience');\n",
    "plt.ylabel('count');\n",
    "plt.text( 0, count[5]+200 , str(round(100*count[5] / df.experience.count()))+'%', ha='center',va = 'top')\n",
    "plt.text( 1, count[0]+200 , str(round(100*count[0] / df.experience.count()))+'%', ha='center',va = 'top')\n",
    "plt.text( 2, count[1]+200 , str(round(100*count[1] / df.experience.count()))+'%', ha='center',va = 'top')\n",
    "plt.text( 3, count[3]+200 , str(round(100*count[3] / df.experience.count()))+'%', ha='center',va = 'top')\n",
    "plt.text( 4, count[4]+200 , str(round(100*count[4] / df.experience.count()))+'%', ha='center',va = 'top')\n",
    "plt.text( 5, count[2]+200 , str(round(100*count[2] / df.experience.count()))+'%', ha='center',va = 'top')"
   ]
  },
  {
   "cell_type": "markdown",
   "metadata": {},
   "source": [
    "### Now let`s make encoding data"
   ]
  },
  {
   "cell_type": "markdown",
   "metadata": {},
   "source": [
    "Consider 'city' feature"
   ]
  },
  {
   "cell_type": "code",
   "execution_count": 23,
   "metadata": {},
   "outputs": [
    {
     "data": {
      "text/plain": [
       "0        city_103\n",
       "1         city_40\n",
       "2         city_21\n",
       "3        city_115\n",
       "4        city_162\n",
       "           ...   \n",
       "19153    city_173\n",
       "19154    city_103\n",
       "19155    city_103\n",
       "19156     city_65\n",
       "19157     city_67\n",
       "Name: city, Length: 19158, dtype: object"
      ]
     },
     "execution_count": 23,
     "metadata": {},
     "output_type": "execute_result"
    }
   ],
   "source": [
    "df_train['city']"
   ]
  },
  {
   "cell_type": "code",
   "execution_count": 24,
   "metadata": {},
   "outputs": [],
   "source": [
    "df_train['city']=df_train['city'].apply(lambda x: x.strip('city_'))\n",
    "df_train['city'] = df_train['city'].astype(int)"
   ]
  },
  {
   "cell_type": "code",
   "execution_count": 25,
   "metadata": {},
   "outputs": [
    {
     "data": {
      "text/plain": [
       "(19158, 12)"
      ]
     },
     "execution_count": 25,
     "metadata": {},
     "output_type": "execute_result"
    }
   ],
   "source": [
    "to_LabelEncode = df_train[['gender','relevent_experience',\n",
    "       'enrolled_university', 'education_level', 'major_discipline',\n",
    "       'experience', 'company_size', 'company_type', 'last_new_job']]\n",
    "\n",
    "le = LabelEncoder()\n",
    "df_temp = to_LabelEncode.astype(\"str\").apply(le.fit_transform)\n",
    "df_temp = df_temp.where(~to_LabelEncode.isna(), to_LabelEncode)\n",
    "\n",
    "df_encod = df_temp.join(df_train[['city_development_index','training_hours','city']])\n",
    "\n",
    "df_encod.shape"
   ]
  },
  {
   "cell_type": "markdown",
   "metadata": {},
   "source": [
    "Pick out our target from data frame:"
   ]
  },
  {
   "cell_type": "code",
   "execution_count": 26,
   "metadata": {},
   "outputs": [],
   "source": [
    "target = df_train['target']"
   ]
  },
  {
   "cell_type": "code",
   "execution_count": 27,
   "metadata": {},
   "outputs": [
    {
     "data": {
      "text/html": [
       "<div>\n",
       "<style scoped>\n",
       "    .dataframe tbody tr th:only-of-type {\n",
       "        vertical-align: middle;\n",
       "    }\n",
       "\n",
       "    .dataframe tbody tr th {\n",
       "        vertical-align: top;\n",
       "    }\n",
       "\n",
       "    .dataframe thead th {\n",
       "        text-align: right;\n",
       "    }\n",
       "</style>\n",
       "<table border=\"1\" class=\"dataframe\">\n",
       "  <thead>\n",
       "    <tr style=\"text-align: right;\">\n",
       "      <th></th>\n",
       "      <th>gender</th>\n",
       "      <th>relevent_experience</th>\n",
       "      <th>enrolled_university</th>\n",
       "      <th>education_level</th>\n",
       "      <th>major_discipline</th>\n",
       "      <th>experience</th>\n",
       "      <th>company_size</th>\n",
       "      <th>company_type</th>\n",
       "      <th>last_new_job</th>\n",
       "      <th>city_development_index</th>\n",
       "      <th>training_hours</th>\n",
       "      <th>city</th>\n",
       "    </tr>\n",
       "  </thead>\n",
       "  <tbody>\n",
       "    <tr>\n",
       "      <th>0</th>\n",
       "      <td>1</td>\n",
       "      <td>0</td>\n",
       "      <td>3</td>\n",
       "      <td>0</td>\n",
       "      <td>5</td>\n",
       "      <td>5</td>\n",
       "      <td>NaN</td>\n",
       "      <td>NaN</td>\n",
       "      <td>0</td>\n",
       "      <td>0.821326</td>\n",
       "      <td>36</td>\n",
       "      <td>103</td>\n",
       "    </tr>\n",
       "    <tr>\n",
       "      <th>1</th>\n",
       "      <td>1</td>\n",
       "      <td>1</td>\n",
       "      <td>3</td>\n",
       "      <td>0</td>\n",
       "      <td>5</td>\n",
       "      <td>1</td>\n",
       "      <td>4</td>\n",
       "      <td>5</td>\n",
       "      <td>4</td>\n",
       "      <td>-0.848196</td>\n",
       "      <td>47</td>\n",
       "      <td>40</td>\n",
       "    </tr>\n",
       "    <tr>\n",
       "      <th>2</th>\n",
       "      <td>NaN</td>\n",
       "      <td>1</td>\n",
       "      <td>0</td>\n",
       "      <td>0</td>\n",
       "      <td>5</td>\n",
       "      <td>0</td>\n",
       "      <td>NaN</td>\n",
       "      <td>NaN</td>\n",
       "      <td>6</td>\n",
       "      <td>-1.543829</td>\n",
       "      <td>83</td>\n",
       "      <td>21</td>\n",
       "    </tr>\n",
       "    <tr>\n",
       "      <th>3</th>\n",
       "      <td>NaN</td>\n",
       "      <td>1</td>\n",
       "      <td>NaN</td>\n",
       "      <td>0</td>\n",
       "      <td>1</td>\n",
       "      <td>4</td>\n",
       "      <td>NaN</td>\n",
       "      <td>5</td>\n",
       "      <td>6</td>\n",
       "      <td>-0.749002</td>\n",
       "      <td>52</td>\n",
       "      <td>115</td>\n",
       "    </tr>\n",
       "    <tr>\n",
       "      <th>4</th>\n",
       "      <td>1</td>\n",
       "      <td>0</td>\n",
       "      <td>3</td>\n",
       "      <td>2</td>\n",
       "      <td>5</td>\n",
       "      <td>5</td>\n",
       "      <td>4</td>\n",
       "      <td>1</td>\n",
       "      <td>3</td>\n",
       "      <td>-0.912240</td>\n",
       "      <td>8</td>\n",
       "      <td>162</td>\n",
       "    </tr>\n",
       "  </tbody>\n",
       "</table>\n",
       "</div>"
      ],
      "text/plain": [
       "  gender  relevent_experience enrolled_university education_level  \\\n",
       "0      1                    0                   3               0   \n",
       "1      1                    1                   3               0   \n",
       "2    NaN                    1                   0               0   \n",
       "3    NaN                    1                 NaN               0   \n",
       "4      1                    0                   3               2   \n",
       "\n",
       "  major_discipline experience company_size company_type last_new_job  \\\n",
       "0                5          5          NaN          NaN            0   \n",
       "1                5          1            4            5            4   \n",
       "2                5          0          NaN          NaN            6   \n",
       "3                1          4          NaN            5            6   \n",
       "4                5          5            4            1            3   \n",
       "\n",
       "   city_development_index  training_hours  city  \n",
       "0                0.821326              36   103  \n",
       "1               -0.848196              47    40  \n",
       "2               -1.543829              83    21  \n",
       "3               -0.749002              52   115  \n",
       "4               -0.912240               8   162  "
      ]
     },
     "execution_count": 27,
     "metadata": {},
     "output_type": "execute_result"
    }
   ],
   "source": [
    "df_encod.head()"
   ]
  },
  {
   "cell_type": "markdown",
   "metadata": {},
   "source": [
    "Now we need preprocessing miss values. Due to we have many such values, we cannot delete all of is. We need use another approach, for exemple fill it using an imputer."
   ]
  },
  {
   "cell_type": "code",
   "execution_count": 28,
   "metadata": {},
   "outputs": [
    {
     "name": "stdout",
     "output_type": "stream",
     "text": [
      "(19158, 12)\n"
     ]
    }
   ],
   "source": [
    "lr = LinearRegression()\n",
    "\n",
    "mice_imputer = IterativeImputer(random_state=42, estimator=lr, max_iter=10,\n",
    "                         n_nearest_features=2,skip_complete=True)\n",
    "final_df = mice_imputer.fit_transform(df_encod)\n",
    "\n",
    "final_df = pd.DataFrame(final_df)\n",
    "print(final_df.shape)\n",
    "final_df.columns = ['gender','relevent_experience', 'enrolled_university', 'education_level', \n",
    "                    'major_discipline','experience', 'company_size', 'company_type', \n",
    "                    'last_new_job','city_development_index','training_hours','city']"
   ]
  },
  {
   "cell_type": "code",
   "execution_count": 29,
   "metadata": {},
   "outputs": [
    {
     "data": {
      "text/html": [
       "<div>\n",
       "<style scoped>\n",
       "    .dataframe tbody tr th:only-of-type {\n",
       "        vertical-align: middle;\n",
       "    }\n",
       "\n",
       "    .dataframe tbody tr th {\n",
       "        vertical-align: top;\n",
       "    }\n",
       "\n",
       "    .dataframe thead th {\n",
       "        text-align: right;\n",
       "    }\n",
       "</style>\n",
       "<table border=\"1\" class=\"dataframe\">\n",
       "  <thead>\n",
       "    <tr style=\"text-align: right;\">\n",
       "      <th></th>\n",
       "      <th>gender</th>\n",
       "      <th>relevent_experience</th>\n",
       "      <th>enrolled_university</th>\n",
       "      <th>education_level</th>\n",
       "      <th>major_discipline</th>\n",
       "      <th>experience</th>\n",
       "      <th>company_size</th>\n",
       "      <th>company_type</th>\n",
       "      <th>last_new_job</th>\n",
       "      <th>city_development_index</th>\n",
       "      <th>training_hours</th>\n",
       "      <th>city</th>\n",
       "      <th>target</th>\n",
       "    </tr>\n",
       "  </thead>\n",
       "  <tbody>\n",
       "    <tr>\n",
       "      <th>0</th>\n",
       "      <td>1.000000</td>\n",
       "      <td>0.0</td>\n",
       "      <td>3.000000</td>\n",
       "      <td>0.0</td>\n",
       "      <td>5.0</td>\n",
       "      <td>5.0</td>\n",
       "      <td>3.070854</td>\n",
       "      <td>4.377558</td>\n",
       "      <td>0.0</td>\n",
       "      <td>0.821326</td>\n",
       "      <td>36.0</td>\n",
       "      <td>103.0</td>\n",
       "      <td>1.0</td>\n",
       "    </tr>\n",
       "    <tr>\n",
       "      <th>1</th>\n",
       "      <td>1.000000</td>\n",
       "      <td>1.0</td>\n",
       "      <td>3.000000</td>\n",
       "      <td>0.0</td>\n",
       "      <td>5.0</td>\n",
       "      <td>1.0</td>\n",
       "      <td>4.000000</td>\n",
       "      <td>5.000000</td>\n",
       "      <td>4.0</td>\n",
       "      <td>-0.848196</td>\n",
       "      <td>47.0</td>\n",
       "      <td>40.0</td>\n",
       "      <td>0.0</td>\n",
       "    </tr>\n",
       "    <tr>\n",
       "      <th>2</th>\n",
       "      <td>0.938402</td>\n",
       "      <td>1.0</td>\n",
       "      <td>0.000000</td>\n",
       "      <td>0.0</td>\n",
       "      <td>5.0</td>\n",
       "      <td>0.0</td>\n",
       "      <td>3.030476</td>\n",
       "      <td>4.051763</td>\n",
       "      <td>6.0</td>\n",
       "      <td>-1.543829</td>\n",
       "      <td>83.0</td>\n",
       "      <td>21.0</td>\n",
       "      <td>0.0</td>\n",
       "    </tr>\n",
       "    <tr>\n",
       "      <th>3</th>\n",
       "      <td>0.864566</td>\n",
       "      <td>1.0</td>\n",
       "      <td>1.381317</td>\n",
       "      <td>0.0</td>\n",
       "      <td>1.0</td>\n",
       "      <td>4.0</td>\n",
       "      <td>2.993103</td>\n",
       "      <td>5.000000</td>\n",
       "      <td>6.0</td>\n",
       "      <td>-0.749002</td>\n",
       "      <td>52.0</td>\n",
       "      <td>115.0</td>\n",
       "      <td>1.0</td>\n",
       "    </tr>\n",
       "    <tr>\n",
       "      <th>4</th>\n",
       "      <td>1.000000</td>\n",
       "      <td>0.0</td>\n",
       "      <td>3.000000</td>\n",
       "      <td>2.0</td>\n",
       "      <td>5.0</td>\n",
       "      <td>5.0</td>\n",
       "      <td>4.000000</td>\n",
       "      <td>1.000000</td>\n",
       "      <td>3.0</td>\n",
       "      <td>-0.912240</td>\n",
       "      <td>8.0</td>\n",
       "      <td>162.0</td>\n",
       "      <td>0.0</td>\n",
       "    </tr>\n",
       "  </tbody>\n",
       "</table>\n",
       "</div>"
      ],
      "text/plain": [
       "     gender  relevent_experience  enrolled_university  education_level  \\\n",
       "0  1.000000                  0.0             3.000000              0.0   \n",
       "1  1.000000                  1.0             3.000000              0.0   \n",
       "2  0.938402                  1.0             0.000000              0.0   \n",
       "3  0.864566                  1.0             1.381317              0.0   \n",
       "4  1.000000                  0.0             3.000000              2.0   \n",
       "\n",
       "   major_discipline  experience  company_size  company_type  last_new_job  \\\n",
       "0               5.0         5.0      3.070854      4.377558           0.0   \n",
       "1               5.0         1.0      4.000000      5.000000           4.0   \n",
       "2               5.0         0.0      3.030476      4.051763           6.0   \n",
       "3               1.0         4.0      2.993103      5.000000           6.0   \n",
       "4               5.0         5.0      4.000000      1.000000           3.0   \n",
       "\n",
       "   city_development_index  training_hours   city  target  \n",
       "0                0.821326            36.0  103.0     1.0  \n",
       "1               -0.848196            47.0   40.0     0.0  \n",
       "2               -1.543829            83.0   21.0     0.0  \n",
       "3               -0.749002            52.0  115.0     1.0  \n",
       "4               -0.912240             8.0  162.0     0.0  "
      ]
     },
     "execution_count": 29,
     "metadata": {},
     "output_type": "execute_result"
    }
   ],
   "source": [
    "final_df = final_df.join(target)\n",
    "final_df.head()"
   ]
  },
  {
   "cell_type": "markdown",
   "metadata": {},
   "source": [
    "Apply one hot encoder to gender feature:"
   ]
  },
  {
   "cell_type": "code",
   "execution_count": 30,
   "metadata": {},
   "outputs": [
    {
     "data": {
      "text/html": [
       "<div>\n",
       "<style scoped>\n",
       "    .dataframe tbody tr th:only-of-type {\n",
       "        vertical-align: middle;\n",
       "    }\n",
       "\n",
       "    .dataframe tbody tr th {\n",
       "        vertical-align: top;\n",
       "    }\n",
       "\n",
       "    .dataframe thead th {\n",
       "        text-align: right;\n",
       "    }\n",
       "</style>\n",
       "<table border=\"1\" class=\"dataframe\">\n",
       "  <thead>\n",
       "    <tr style=\"text-align: right;\">\n",
       "      <th></th>\n",
       "      <th>relevent_experience</th>\n",
       "      <th>enrolled_university</th>\n",
       "      <th>education_level</th>\n",
       "      <th>major_discipline</th>\n",
       "      <th>experience</th>\n",
       "      <th>company_size</th>\n",
       "      <th>company_type</th>\n",
       "      <th>last_new_job</th>\n",
       "      <th>city_development_index</th>\n",
       "      <th>training_hours</th>\n",
       "      <th>city</th>\n",
       "      <th>target</th>\n",
       "      <th>gender_f</th>\n",
       "      <th>gender_m</th>\n",
       "      <th>gender_oth</th>\n",
       "    </tr>\n",
       "  </thead>\n",
       "  <tbody>\n",
       "    <tr>\n",
       "      <th>0</th>\n",
       "      <td>0.0</td>\n",
       "      <td>3.000000</td>\n",
       "      <td>0.0</td>\n",
       "      <td>5.0</td>\n",
       "      <td>5.0</td>\n",
       "      <td>3.070854</td>\n",
       "      <td>4.377558</td>\n",
       "      <td>0.0</td>\n",
       "      <td>0.821326</td>\n",
       "      <td>36.0</td>\n",
       "      <td>103.0</td>\n",
       "      <td>1.0</td>\n",
       "      <td>0.0</td>\n",
       "      <td>1.0</td>\n",
       "      <td>0.0</td>\n",
       "    </tr>\n",
       "    <tr>\n",
       "      <th>1</th>\n",
       "      <td>1.0</td>\n",
       "      <td>3.000000</td>\n",
       "      <td>0.0</td>\n",
       "      <td>5.0</td>\n",
       "      <td>1.0</td>\n",
       "      <td>4.000000</td>\n",
       "      <td>5.000000</td>\n",
       "      <td>4.0</td>\n",
       "      <td>-0.848196</td>\n",
       "      <td>47.0</td>\n",
       "      <td>40.0</td>\n",
       "      <td>0.0</td>\n",
       "      <td>0.0</td>\n",
       "      <td>1.0</td>\n",
       "      <td>0.0</td>\n",
       "    </tr>\n",
       "    <tr>\n",
       "      <th>2</th>\n",
       "      <td>1.0</td>\n",
       "      <td>0.000000</td>\n",
       "      <td>0.0</td>\n",
       "      <td>5.0</td>\n",
       "      <td>0.0</td>\n",
       "      <td>3.030476</td>\n",
       "      <td>4.051763</td>\n",
       "      <td>6.0</td>\n",
       "      <td>-1.543829</td>\n",
       "      <td>83.0</td>\n",
       "      <td>21.0</td>\n",
       "      <td>0.0</td>\n",
       "      <td>0.0</td>\n",
       "      <td>1.0</td>\n",
       "      <td>0.0</td>\n",
       "    </tr>\n",
       "    <tr>\n",
       "      <th>3</th>\n",
       "      <td>1.0</td>\n",
       "      <td>1.381317</td>\n",
       "      <td>0.0</td>\n",
       "      <td>1.0</td>\n",
       "      <td>4.0</td>\n",
       "      <td>2.993103</td>\n",
       "      <td>5.000000</td>\n",
       "      <td>6.0</td>\n",
       "      <td>-0.749002</td>\n",
       "      <td>52.0</td>\n",
       "      <td>115.0</td>\n",
       "      <td>1.0</td>\n",
       "      <td>0.0</td>\n",
       "      <td>1.0</td>\n",
       "      <td>0.0</td>\n",
       "    </tr>\n",
       "    <tr>\n",
       "      <th>4</th>\n",
       "      <td>0.0</td>\n",
       "      <td>3.000000</td>\n",
       "      <td>2.0</td>\n",
       "      <td>5.0</td>\n",
       "      <td>5.0</td>\n",
       "      <td>4.000000</td>\n",
       "      <td>1.000000</td>\n",
       "      <td>3.0</td>\n",
       "      <td>-0.912240</td>\n",
       "      <td>8.0</td>\n",
       "      <td>162.0</td>\n",
       "      <td>0.0</td>\n",
       "      <td>0.0</td>\n",
       "      <td>1.0</td>\n",
       "      <td>0.0</td>\n",
       "    </tr>\n",
       "  </tbody>\n",
       "</table>\n",
       "</div>"
      ],
      "text/plain": [
       "   relevent_experience  enrolled_university  education_level  \\\n",
       "0                  0.0             3.000000              0.0   \n",
       "1                  1.0             3.000000              0.0   \n",
       "2                  1.0             0.000000              0.0   \n",
       "3                  1.0             1.381317              0.0   \n",
       "4                  0.0             3.000000              2.0   \n",
       "\n",
       "   major_discipline  experience  company_size  company_type  last_new_job  \\\n",
       "0               5.0         5.0      3.070854      4.377558           0.0   \n",
       "1               5.0         1.0      4.000000      5.000000           4.0   \n",
       "2               5.0         0.0      3.030476      4.051763           6.0   \n",
       "3               1.0         4.0      2.993103      5.000000           6.0   \n",
       "4               5.0         5.0      4.000000      1.000000           3.0   \n",
       "\n",
       "   city_development_index  training_hours   city  target  gender_f  gender_m  \\\n",
       "0                0.821326            36.0  103.0     1.0       0.0       1.0   \n",
       "1               -0.848196            47.0   40.0     0.0       0.0       1.0   \n",
       "2               -1.543829            83.0   21.0     0.0       0.0       1.0   \n",
       "3               -0.749002            52.0  115.0     1.0       0.0       1.0   \n",
       "4               -0.912240             8.0  162.0     0.0       0.0       1.0   \n",
       "\n",
       "   gender_oth  \n",
       "0         0.0  \n",
       "1         0.0  \n",
       "2         0.0  \n",
       "3         0.0  \n",
       "4         0.0  "
      ]
     },
     "execution_count": 30,
     "metadata": {},
     "output_type": "execute_result"
    }
   ],
   "source": [
    "final_df['gender']=(final_df['gender'].apply(np.ceil)).astype(int)\n",
    "encoder = OneHotEncoder(handle_unknown='ignore')\n",
    "\n",
    "#perform one-hot encoding on 'team' column \n",
    "encoder_df = pd.DataFrame(encoder.fit_transform(final_df[['gender']]).toarray())\n",
    "\n",
    "#merge one-hot encoded columns back with original DataFrame\n",
    "encoder_df.columns = ['gender_f','gender_m','gender_oth']\n",
    "\n",
    "\n",
    "final_df.drop(columns='gender',inplace=True)\n",
    "final_df = pd.DataFrame(final_df.join(encoder_df))\n",
    "#view final df\n",
    "final_df.head()"
   ]
  },
  {
   "cell_type": "markdown",
   "metadata": {},
   "source": [
    "### Let`s look on descriptive statistics"
   ]
  },
  {
   "cell_type": "code",
   "execution_count": 31,
   "metadata": {},
   "outputs": [
    {
     "data": {
      "text/plain": [
       "<matplotlib.axes._subplots.AxesSubplot at 0x1a2abb00c70>"
      ]
     },
     "execution_count": 31,
     "metadata": {},
     "output_type": "execute_result"
    },
    {
     "data": {
      "image/png": "[encoded data removed]",
      "text/plain": [
       "<Figure size 1440x1080 with 2 Axes>"
      ]
     },
     "metadata": {
      "needs_background": "light"
     },
     "output_type": "display_data"
    }
   ],
   "source": [
    "plt.subplots(figsize=(20,15))\n",
    "sb.heatmap(final_df.corr(),annot_kws={\"size\": 10} ,annot=True,cmap='YlGnBu',)"
   ]
  },
  {
   "cell_type": "markdown",
   "metadata": {},
   "source": [
    "How we can see, we don`t have strong correlation."
   ]
  },
  {
   "cell_type": "code",
   "execution_count": 32,
   "metadata": {},
   "outputs": [
    {
     "data": {
      "text/html": [
       "<div>\n",
       "<style scoped>\n",
       "    .dataframe tbody tr th:only-of-type {\n",
       "        vertical-align: middle;\n",
       "    }\n",
       "\n",
       "    .dataframe tbody tr th {\n",
       "        vertical-align: top;\n",
       "    }\n",
       "\n",
       "    .dataframe thead th {\n",
       "        text-align: right;\n",
       "    }\n",
       "</style>\n",
       "<table border=\"1\" class=\"dataframe\">\n",
       "  <thead>\n",
       "    <tr style=\"text-align: right;\">\n",
       "      <th></th>\n",
       "      <th>relevent_experience</th>\n",
       "      <th>enrolled_university</th>\n",
       "      <th>education_level</th>\n",
       "      <th>major_discipline</th>\n",
       "      <th>experience</th>\n",
       "      <th>company_size</th>\n",
       "      <th>company_type</th>\n",
       "      <th>last_new_job</th>\n",
       "      <th>city_development_index</th>\n",
       "      <th>training_hours</th>\n",
       "      <th>city</th>\n",
       "      <th>target</th>\n",
       "      <th>gender_f</th>\n",
       "      <th>gender_m</th>\n",
       "      <th>gender_oth</th>\n",
       "    </tr>\n",
       "  </thead>\n",
       "  <tbody>\n",
       "    <tr>\n",
       "      <th>count</th>\n",
       "      <td>19158.000000</td>\n",
       "      <td>19158.000000</td>\n",
       "      <td>19158.000000</td>\n",
       "      <td>19158.000000</td>\n",
       "      <td>19158.000000</td>\n",
       "      <td>19158.000000</td>\n",
       "      <td>19158.000000</td>\n",
       "      <td>19158.000000</td>\n",
       "      <td>1.915800e+04</td>\n",
       "      <td>19158.000000</td>\n",
       "      <td>19158.000000</td>\n",
       "      <td>19158.000000</td>\n",
       "      <td>19158.000000</td>\n",
       "      <td>19158.000000</td>\n",
       "      <td>19158.000000</td>\n",
       "    </tr>\n",
       "    <tr>\n",
       "      <th>mean</th>\n",
       "      <td>0.280092</td>\n",
       "      <td>2.265505</td>\n",
       "      <td>0.707816</td>\n",
       "      <td>4.661322</td>\n",
       "      <td>2.070781</td>\n",
       "      <td>3.062689</td>\n",
       "      <td>4.235991</td>\n",
       "      <td>1.921307</td>\n",
       "      <td>2.140017e-16</td>\n",
       "      <td>65.366896</td>\n",
       "      <td>80.128876</td>\n",
       "      <td>0.249348</td>\n",
       "      <td>0.064621</td>\n",
       "      <td>0.925410</td>\n",
       "      <td>0.009970</td>\n",
       "    </tr>\n",
       "    <tr>\n",
       "      <th>std</th>\n",
       "      <td>0.449056</td>\n",
       "      <td>1.226131</td>\n",
       "      <td>0.990206</td>\n",
       "      <td>0.944310</td>\n",
       "      <td>1.811676</td>\n",
       "      <td>1.730788</td>\n",
       "      <td>1.250360</td>\n",
       "      <td>2.149301</td>\n",
       "      <td>1.000026e+00</td>\n",
       "      <td>60.058462</td>\n",
       "      <td>46.413570</td>\n",
       "      <td>0.432647</td>\n",
       "      <td>0.245861</td>\n",
       "      <td>0.262736</td>\n",
       "      <td>0.099352</td>\n",
       "    </tr>\n",
       "    <tr>\n",
       "      <th>min</th>\n",
       "      <td>0.000000</td>\n",
       "      <td>0.000000</td>\n",
       "      <td>0.000000</td>\n",
       "      <td>0.000000</td>\n",
       "      <td>0.000000</td>\n",
       "      <td>0.000000</td>\n",
       "      <td>0.000000</td>\n",
       "      <td>0.000000</td>\n",
       "      <td>-1.770639e+00</td>\n",
       "      <td>1.000000</td>\n",
       "      <td>1.000000</td>\n",
       "      <td>0.000000</td>\n",
       "      <td>0.000000</td>\n",
       "      <td>0.000000</td>\n",
       "      <td>0.000000</td>\n",
       "    </tr>\n",
       "    <tr>\n",
       "      <th>25%</th>\n",
       "      <td>0.000000</td>\n",
       "      <td>1.000000</td>\n",
       "      <td>0.000000</td>\n",
       "      <td>5.000000</td>\n",
       "      <td>0.000000</td>\n",
       "      <td>2.000000</td>\n",
       "      <td>4.136197</td>\n",
       "      <td>0.000000</td>\n",
       "      <td>-1.083456e+00</td>\n",
       "      <td>23.000000</td>\n",
       "      <td>21.000000</td>\n",
       "      <td>0.000000</td>\n",
       "      <td>0.000000</td>\n",
       "      <td>1.000000</td>\n",
       "      <td>0.000000</td>\n",
       "    </tr>\n",
       "    <tr>\n",
       "      <th>50%</th>\n",
       "      <td>0.000000</td>\n",
       "      <td>3.000000</td>\n",
       "      <td>0.000000</td>\n",
       "      <td>5.000000</td>\n",
       "      <td>2.000000</td>\n",
       "      <td>3.039325</td>\n",
       "      <td>5.000000</td>\n",
       "      <td>1.000000</td>\n",
       "      <td>5.464346e-01</td>\n",
       "      <td>47.000000</td>\n",
       "      <td>101.000000</td>\n",
       "      <td>0.000000</td>\n",
       "      <td>0.000000</td>\n",
       "      <td>1.000000</td>\n",
       "      <td>0.000000</td>\n",
       "    </tr>\n",
       "    <tr>\n",
       "      <th>75%</th>\n",
       "      <td>1.000000</td>\n",
       "      <td>3.000000</td>\n",
       "      <td>2.000000</td>\n",
       "      <td>5.000000</td>\n",
       "      <td>3.000000</td>\n",
       "      <td>4.000000</td>\n",
       "      <td>5.000000</td>\n",
       "      <td>4.000000</td>\n",
       "      <td>8.213261e-01</td>\n",
       "      <td>88.000000</td>\n",
       "      <td>104.000000</td>\n",
       "      <td>0.000000</td>\n",
       "      <td>0.000000</td>\n",
       "      <td>1.000000</td>\n",
       "      <td>0.000000</td>\n",
       "    </tr>\n",
       "    <tr>\n",
       "      <th>max</th>\n",
       "      <td>1.000000</td>\n",
       "      <td>3.000000</td>\n",
       "      <td>4.000000</td>\n",
       "      <td>5.000000</td>\n",
       "      <td>5.000000</td>\n",
       "      <td>7.000000</td>\n",
       "      <td>5.000000</td>\n",
       "      <td>6.000000</td>\n",
       "      <td>1.351705e+00</td>\n",
       "      <td>336.000000</td>\n",
       "      <td>180.000000</td>\n",
       "      <td>1.000000</td>\n",
       "      <td>1.000000</td>\n",
       "      <td>1.000000</td>\n",
       "      <td>1.000000</td>\n",
       "    </tr>\n",
       "  </tbody>\n",
       "</table>\n",
       "</div>"
      ],
      "text/plain": [
       "       relevent_experience  enrolled_university  education_level  \\\n",
       "count         19158.000000         19158.000000     19158.000000   \n",
       "mean              0.280092             2.265505         0.707816   \n",
       "std               0.449056             1.226131         0.990206   \n",
       "min               0.000000             0.000000         0.000000   \n",
       "25%               0.000000             1.000000         0.000000   \n",
       "50%               0.000000             3.000000         0.000000   \n",
       "75%               1.000000             3.000000         2.000000   \n",
       "max               1.000000             3.000000         4.000000   \n",
       "\n",
       "       major_discipline    experience  company_size  company_type  \\\n",
       "count      19158.000000  19158.000000  19158.000000  19158.000000   \n",
       "mean           4.661322      2.070781      3.062689      4.235991   \n",
       "std            0.944310      1.811676      1.730788      1.250360   \n",
       "min            0.000000      0.000000      0.000000      0.000000   \n",
       "25%            5.000000      0.000000      2.000000      4.136197   \n",
       "50%            5.000000      2.000000      3.039325      5.000000   \n",
       "75%            5.000000      3.000000      4.000000      5.000000   \n",
       "max            5.000000      5.000000      7.000000      5.000000   \n",
       "\n",
       "       last_new_job  city_development_index  training_hours          city  \\\n",
       "count  19158.000000            1.915800e+04    19158.000000  19158.000000   \n",
       "mean       1.921307            2.140017e-16       65.366896     80.128876   \n",
       "std        2.149301            1.000026e+00       60.058462     46.413570   \n",
       "min        0.000000           -1.770639e+00        1.000000      1.000000   \n",
       "25%        0.000000           -1.083456e+00       23.000000     21.000000   \n",
       "50%        1.000000            5.464346e-01       47.000000    101.000000   \n",
       "75%        4.000000            8.213261e-01       88.000000    104.000000   \n",
       "max        6.000000            1.351705e+00      336.000000    180.000000   \n",
       "\n",
       "             target      gender_f      gender_m    gender_oth  \n",
       "count  19158.000000  19158.000000  19158.000000  19158.000000  \n",
       "mean       0.249348      0.064621      0.925410      0.009970  \n",
       "std        0.432647      0.245861      0.262736      0.099352  \n",
       "min        0.000000      0.000000      0.000000      0.000000  \n",
       "25%        0.000000      0.000000      1.000000      0.000000  \n",
       "50%        0.000000      0.000000      1.000000      0.000000  \n",
       "75%        0.000000      0.000000      1.000000      0.000000  \n",
       "max        1.000000      1.000000      1.000000      1.000000  "
      ]
     },
     "execution_count": 32,
     "metadata": {},
     "output_type": "execute_result"
    }
   ],
   "source": [
    "final_df.describe()"
   ]
  },
  {
   "cell_type": "markdown",
   "metadata": {},
   "source": [
    "## 3. Checking for imbalance and separate data to train and test"
   ]
  },
  {
   "cell_type": "code",
   "execution_count": 33,
   "metadata": {},
   "outputs": [
    {
     "name": "stdout",
     "output_type": "stream",
     "text": [
      "0.0    14381\n",
      "1.0     4777\n",
      "Name: target, dtype: int64\n"
     ]
    },
    {
     "data": {
      "image/png": "[encoded data removed]",
      "text/plain": [
       "<Figure size 432x432 with 1 Axes>"
      ]
     },
     "metadata": {
      "needs_background": "light"
     },
     "output_type": "display_data"
    }
   ],
   "source": [
    "count = final_df.target.value_counts()\n",
    "print( count )\n",
    "plt.figure(figsize = (6,6))\n",
    "sb.countplot(final_df.target,color = sb.color_palette()[0]);\n",
    "plt.title('distribution of target');\n",
    "plt.xlabel('target values');\n",
    "plt.ylabel('count');\n",
    "for i in range(count.shape[0]):\n",
    "    plt.text( \n",
    "            i,\n",
    "            count[i] + 500,\n",
    "            str(round(100*count[i] /final_df.target.count()))+'%',\n",
    "              ha='center',\n",
    "              va = 'top')\n",
    "    "
   ]
  },
  {
   "cell_type": "markdown",
   "metadata": {},
   "source": [
    "There is a huge imbalance in data so we should handle it by using an oversampling technique"
   ]
  },
  {
   "cell_type": "markdown",
   "metadata": {},
   "source": [
    "Oversampling using SMOTE:"
   ]
  },
  {
   "cell_type": "code",
   "execution_count": 34,
   "metadata": {},
   "outputs": [],
   "source": [
    "y_true = final_df[\"target\"]\n",
    "final_df[\"target\"].value_counts(normalize=True)\n",
    "X = final_df.drop('target',1)\n",
    "y = final_df.target\n",
    "\n",
    "\n",
    "svm_smote = SMOTE( random_state=42,k_neighbors=5) #,sampling_strategy='minority', k_neighbors=5)\n",
    "X_svm_smote, y_svm_smote = svm_smote.fit_resample(X,y)\n",
    "\n",
    "X_train_svm, X_test_svm, y_train, y_test = train_test_split(X_svm_smote,y_svm_smote, test_size=0.3, random_state=42)"
   ]
  },
  {
   "cell_type": "markdown",
   "metadata": {},
   "source": [
    "And Standardize our data:"
   ]
  },
  {
   "cell_type": "code",
   "execution_count": 35,
   "metadata": {},
   "outputs": [],
   "source": [
    "sc = StandardScaler()\n",
    "X_train = sc.fit_transform(X_train_svm)\n",
    "\n",
    "X_test = sc.transform(X_test_svm)\n"
   ]
  },
  {
   "cell_type": "code",
   "execution_count": 36,
   "metadata": {},
   "outputs": [
    {
     "name": "stdout",
     "output_type": "stream",
     "text": [
      "0.0    14381\n",
      "1.0    14381\n",
      "Name: target, dtype: int64\n"
     ]
    },
    {
     "data": {
      "image/png": "[encoded data removed]",
      "text/plain": [
       "<Figure size 432x432 with 1 Axes>"
      ]
     },
     "metadata": {
      "needs_background": "light"
     },
     "output_type": "display_data"
    }
   ],
   "source": [
    "count = y_svm_smote.value_counts()\n",
    "print( count )\n",
    "plt.figure(figsize = (6,6))\n",
    "sb.countplot(y_svm_smote,color = sb.color_palette()[0]);\n",
    "plt.title('distribution of target after oversampling');\n",
    "plt.xlabel('target values');\n",
    "plt.ylabel('count');\n",
    "for i in range(count.shape[0]):\n",
    "    plt.text( \n",
    "            i,\n",
    "            count[i] + 500,\n",
    "            str(round(100*count[i] /y_svm_smote.count()))+'%',\n",
    "              ha='center',\n",
    "              va = 'top')"
   ]
  },
  {
   "cell_type": "markdown",
   "metadata": {},
   "source": [
    "## 4. Train algorithms"
   ]
  },
  {
   "cell_type": "markdown",
   "metadata": {},
   "source": [
    "### KNeighborsClassifier"
   ]
  },
  {
   "cell_type": "code",
   "execution_count": 37,
   "metadata": {},
   "outputs": [
    {
     "name": "stdout",
     "output_type": "stream",
     "text": [
      "Sums of estimates KN_clf with 1 neighbors : [0.74550512 0.75452017]; Mean: 0.7500126413115575\n",
      "Sums of estimates KN_clf with 2 neighbors : [0.71679746 0.72173654]; Mean: 0.7192669979407392\n",
      "Sums of estimates KN_clf with 3 neighbors : [0.7468958  0.73981721]; Mean: 0.7433565022949458\n",
      "Sums of estimates KN_clf with 4 neighbors : [0.73269097 0.73316114]; Mean: 0.7329260534983857\n",
      "Sums of estimates KN_clf with 5 neighbors : [0.74222708 0.7442877 ]; Mean: 0.7432573898729101\n",
      "Sums of estimates KN_clf with 6 neighbors : [0.73785636 0.73773098]; Mean: 0.7377936689667011\n",
      "Sums of estimates KN_clf with 7 neighbors : [0.74242575 0.74319491]; Mean: 0.74281033053112\n",
      "Sums of estimates KN_clf with 8 neighbors : [0.7414324  0.74190344]; Mean: 0.7416679201071479\n",
      "Sums of estimates KN_clf with 9 neighbors : [0.74192908 0.74319491]; Mean: 0.7425619943833104\n"
     ]
    }
   ],
   "source": [
    "from sklearn.neighbors import KNeighborsClassifier\n",
    "from sklearn.model_selection import cross_val_score\n",
    "#попробуем модель при разных значениях кол-во соседей\n",
    "for n_neighbors in range (1, 10): \n",
    "    KN_clf = KNeighborsClassifier(n_neighbors,algorithm='brute')\n",
    "    KN_clf.fit(X_train, y_train)\n",
    "    score = cross_val_score(KN_clf, X_train, y_train, cv=2, scoring=\"accuracy\")\n",
    "    print(\"Sums of estimates KN_clf with {} neighbors : {}; Mean: {}\".format(n_neighbors, score, np.mean(score)))"
   ]
  },
  {
   "cell_type": "markdown",
   "metadata": {},
   "source": [
    "How we can see, best results for 1 neighbors"
   ]
  },
  {
   "cell_type": "code",
   "execution_count": 38,
   "metadata": {},
   "outputs": [
    {
     "name": "stdout",
     "output_type": "stream",
     "text": [
      "KNeighborsClassifier final score: 0.7908216479313941\n"
     ]
    }
   ],
   "source": [
    "KN_clf = KNeighborsClassifier(1,algorithm='brute') \n",
    "KN_clf.fit(X_train, y_train) \n",
    "y_final = KN_clf.predict(X_test)\n",
    "final_score = accuracy_score(y_test, y_final)\n",
    "print(\"{} final score: {}\".format(\"KNeighborsClassifier\", final_score))"
   ]
  },
  {
   "cell_type": "markdown",
   "metadata": {},
   "source": [
    "We need more strong algorithm for oor task"
   ]
  },
  {
   "cell_type": "markdown",
   "metadata": {},
   "source": [
    "### Neural Network"
   ]
  },
  {
   "cell_type": "code",
   "execution_count": 39,
   "metadata": {},
   "outputs": [],
   "source": [
    "import tensorflow as tf\n",
    "from tensorflow.keras.models import Sequential\n",
    "from tensorflow.keras.layers import Dense\n",
    "from tensorflow.keras.wrappers.scikit_learn import KerasClassifier\n",
    "from sklearn.model_selection import cross_val_score\n",
    "from sklearn.preprocessing import LabelEncoder\n",
    "from sklearn.model_selection import StratifiedKFold\n",
    "from tensorflow.keras.layers import Dropout\n",
    "\n",
    "\n",
    "model = Sequential()\n",
    "model.add(Dense(256,input_dim=14,activation = \"relu\"))\n",
    "model.add(Dense(512,activation = \"relu\"))\n",
    "model.add(Dense(1028,activation = \"relu\"))\n",
    "model.add(Dense(1,activation = \"sigmoid\"))"
   ]
  },
  {
   "cell_type": "code",
   "execution_count": 40,
   "metadata": {},
   "outputs": [
    {
     "name": "stdout",
     "output_type": "stream",
     "text": [
      "Model: \"sequential\"\n",
      "_________________________________________________________________\n",
      "Layer (type)                 Output Shape              Param #   \n",
      "=================================================================\n",
      "dense (Dense)                (None, 256)               3840      \n",
      "_________________________________________________________________\n",
      "dense_1 (Dense)              (None, 512)               131584    \n",
      "_________________________________________________________________\n",
      "dense_2 (Dense)              (None, 1028)              527364    \n",
      "_________________________________________________________________\n",
      "dense_3 (Dense)              (None, 1)                 1029      \n",
      "=================================================================\n",
      "Total params: 663,817\n",
      "Trainable params: 663,817\n",
      "Non-trainable params: 0\n",
      "_________________________________________________________________\n"
     ]
    }
   ],
   "source": [
    "model.summary()"
   ]
  },
  {
   "cell_type": "code",
   "execution_count": 41,
   "metadata": {},
   "outputs": [],
   "source": [
    "model.compile(loss = tf.keras.losses.BinaryCrossentropy(),\n",
    "\n",
    "               optimizer=tf.optimizers.Adam(),\n",
    "\n",
    "                metrics = ['accuracy'])"
   ]
  },
  {
   "cell_type": "code",
   "execution_count": 42,
   "metadata": {},
   "outputs": [
    {
     "name": "stdout",
     "output_type": "stream",
     "text": [
      "Epoch 1/30\n",
      "630/630 [==============================] - 4s 6ms/step - loss: 0.5776 - accuracy: 0.7034\n",
      "Epoch 2/30\n",
      "630/630 [==============================] - 3s 5ms/step - loss: 0.5223 - accuracy: 0.7561\n",
      "Epoch 3/30\n",
      "630/630 [==============================] - 4s 7ms/step - loss: 0.4813 - accuracy: 0.7777\n",
      "Epoch 4/30\n",
      "630/630 [==============================] - 4s 6ms/step - loss: 0.4689 - accuracy: 0.7834\n",
      "Epoch 5/30\n",
      "630/630 [==============================] - 4s 6ms/step - loss: 0.4541 - accuracy: 0.7906\n",
      "Epoch 6/30\n",
      "630/630 [==============================] - 4s 6ms/step - loss: 0.4484 - accuracy: 0.7946\n",
      "Epoch 7/30\n",
      "630/630 [==============================] - 4s 6ms/step - loss: 0.4321 - accuracy: 0.8072\n",
      "Epoch 8/30\n",
      "630/630 [==============================] - 4s 6ms/step - loss: 0.4250 - accuracy: 0.8069\n",
      "Epoch 9/30\n",
      "630/630 [==============================] - 4s 7ms/step - loss: 0.4184 - accuracy: 0.8134\n",
      "Epoch 10/30\n",
      "630/630 [==============================] - 4s 6ms/step - loss: 0.4011 - accuracy: 0.8184\n",
      "Epoch 11/30\n",
      "630/630 [==============================] - 4s 6ms/step - loss: 0.3935 - accuracy: 0.8235\n",
      "Epoch 12/30\n",
      "630/630 [==============================] - 4s 6ms/step - loss: 0.3845 - accuracy: 0.8270\n",
      "Epoch 13/30\n",
      "630/630 [==============================] - 4s 6ms/step - loss: 0.3860 - accuracy: 0.8287\n",
      "Epoch 14/30\n",
      "630/630 [==============================] - 4s 6ms/step - loss: 0.3797 - accuracy: 0.8276\n",
      "Epoch 15/30\n",
      "630/630 [==============================] - 4s 6ms/step - loss: 0.3614 - accuracy: 0.8381\n",
      "Epoch 16/30\n",
      "630/630 [==============================] - 4s 6ms/step - loss: 0.3535 - accuracy: 0.8421\n",
      "Epoch 17/30\n",
      "630/630 [==============================] - 3s 5ms/step - loss: 0.3527 - accuracy: 0.8424\n",
      "Epoch 18/30\n",
      "630/630 [==============================] - 3s 5ms/step - loss: 0.3389 - accuracy: 0.8517\n",
      "Epoch 19/30\n",
      "630/630 [==============================] - 3s 5ms/step - loss: 0.3325 - accuracy: 0.8481\n",
      "Epoch 20/30\n",
      "630/630 [==============================] - 3s 5ms/step - loss: 0.3280 - accuracy: 0.8540\n",
      "Epoch 21/30\n",
      "630/630 [==============================] - 3s 5ms/step - loss: 0.3208 - accuracy: 0.8596\n",
      "Epoch 22/30\n",
      "630/630 [==============================] - 4s 6ms/step - loss: 0.3031 - accuracy: 0.8679\n",
      "Epoch 23/30\n",
      "630/630 [==============================] - 4s 6ms/step - loss: 0.3019 - accuracy: 0.8668\n",
      "Epoch 24/30\n",
      "630/630 [==============================] - 4s 6ms/step - loss: 0.2905 - accuracy: 0.8752\n",
      "Epoch 25/30\n",
      "630/630 [==============================] - 4s 6ms/step - loss: 0.2906 - accuracy: 0.8726\n",
      "Epoch 26/30\n",
      "630/630 [==============================] - 4s 6ms/step - loss: 0.2741 - accuracy: 0.8782\n",
      "Epoch 27/30\n",
      "630/630 [==============================] - 4s 6ms/step - loss: 0.2705 - accuracy: 0.8815\n",
      "Epoch 28/30\n",
      "630/630 [==============================] - 4s 6ms/step - loss: 0.2630 - accuracy: 0.8841\n",
      "Epoch 29/30\n",
      "630/630 [==============================] - 4s 6ms/step - loss: 0.2619 - accuracy: 0.8867\n",
      "Epoch 30/30\n",
      "630/630 [==============================] - 4s 6ms/step - loss: 0.2422 - accuracy: 0.8947\n"
     ]
    },
    {
     "data": {
      "text/plain": [
       "<tensorflow.python.keras.callbacks.History at 0x1a2bbea04f0>"
      ]
     },
     "execution_count": 42,
     "metadata": {},
     "output_type": "execute_result"
    }
   ],
   "source": [
    "model.fit(X_train, y_train,epochs = 30)"
   ]
  },
  {
   "cell_type": "code",
   "execution_count": 55,
   "metadata": {},
   "outputs": [
    {
     "name": "stdout",
     "output_type": "stream",
     "text": [
      "270/270 [==============================] - 1s 2ms/step - loss: 0.5433 - accuracy: 0.8087\n"
     ]
    },
    {
     "data": {
      "text/plain": [
       "[0.5433260202407837, 0.8086684346199036]"
      ]
     },
     "execution_count": 55,
     "metadata": {},
     "output_type": "execute_result"
    }
   ],
   "source": [
    "model.evaluate(X_test,y_test)"
   ]
  },
  {
   "cell_type": "markdown",
   "metadata": {},
   "source": [
    "# 5. Last Homework"
   ]
  },
  {
   "cell_type": "markdown",
   "metadata": {},
   "source": [
    "Let's try use sklearn.model_selection.GridSearchCV to find best combination of hyperparameters."
   ]
  },
  {
   "cell_type": "code",
   "execution_count": 136,
   "metadata": {},
   "outputs": [],
   "source": [
    "from sklearn.neural_network import MLPClassifier\n",
    "from sklearn.metrics import log_loss, make_scorer\n",
    "\n",
    "alpha_arr = np.logspace(-3, 2, 21)\n",
    "test_err_from_alpha = []\n",
    "train_err_from_alpha = []\n",
    "train_acc_from_alpha = []\n",
    "test_acc_from_alpha = []\n",
    "\n",
    "hidden_layer_sizes = np.asarray([50,100,150,250,350])\n",
    "test_err_from_hls = []\n",
    "train_err_from_hls = []\n",
    "train_acc_from_hls = []\n",
    "test_acc_from_hls = []\n",
    "\n",
    "for alpha in alpha_arr:\n",
    "    mlp_model = MLPClassifier(alpha = alpha, hidden_layer_sizes = (100,), \n",
    "                              solver = 'lbfgs', activation = 'logistic', max_iter=1000, random_state = 42)\n",
    "    mlp_model.fit(X_train, y_train)\n",
    "\n",
    "    y_train_pred = mlp_model.predict(X_train)\n",
    "    y_test_pred = mlp_model.predict(X_test)\n",
    "    \n",
    "    train_err_from_alpha.append(np.mean(y_train != y_train_pred))\n",
    "    test_err_from_alpha.append(np.mean(y_test != y_test_pred))\n",
    "    train_acc_from_alpha.append(accuracy_score(y_train, y_train_pred))\n",
    "    test_acc_from_alpha.append(accuracy_score(y_test, y_test_pred))\n",
    "    \n",
    "for hls in hidden_layer_sizes:\n",
    "    mlp_model = MLPClassifier(alpha = 0.1, hidden_layer_sizes = (hls,), \n",
    "                              solver = 'lbfgs', activation = 'logistic', max_iter=1000, random_state = 42)\n",
    "    mlp_model.fit(X_train, y_train)\n",
    "\n",
    "    y_train_pred = mlp_model.predict(X_train)\n",
    "    y_test_pred = mlp_model.predict(X_test)\n",
    "    \n",
    "    train_err_from_hls.append(np.mean(y_train != y_train_pred))\n",
    "    test_err_from_hls.append(np.mean(y_test != y_test_pred))\n",
    "    train_acc_from_hls.append(accuracy_score(y_train, y_train_pred))\n",
    "    test_acc_from_hls.append(accuracy_score(y_test, y_test_pred))\n",
    "    \n"
   ]
  },
  {
   "cell_type": "code",
   "execution_count": 137,
   "metadata": {},
   "outputs": [
    {
     "data": {
      "text/plain": [
       "<matplotlib.legend.Legend at 0x1a2c11343a0>"
      ]
     },
     "execution_count": 137,
     "metadata": {},
     "output_type": "execute_result"
    },
    {
     "data": {
      "image/png": "[encoded data removed]",
      "text/plain": [
       "<Figure size 432x288 with 1 Axes>"
      ]
     },
     "metadata": {
      "needs_background": "light"
     },
     "output_type": "display_data"
    }
   ],
   "source": [
    "plt.semilogx(alpha_arr, train_err_from_alpha, 'b-o', label = 'train')\n",
    "plt.semilogx(alpha_arr, test_err_from_alpha, 'r-o', label = 'test')\n",
    "plt.xlim([np.min(alpha_arr), np.max(alpha_arr)])\n",
    "plt.title('Error vs. alpha')\n",
    "plt.xlabel('alpha')\n",
    "plt.ylabel('error')\n",
    "plt.legend()"
   ]
  },
  {
   "cell_type": "code",
   "execution_count": 138,
   "metadata": {},
   "outputs": [
    {
     "data": {
      "text/plain": [
       "<matplotlib.legend.Legend at 0x1a2c22e7130>"
      ]
     },
     "execution_count": 138,
     "metadata": {},
     "output_type": "execute_result"
    },
    {
     "data": {
      "image/png": "[encoded data removed]",
      "text/plain": [
       "<Figure size 432x288 with 1 Axes>"
      ]
     },
     "metadata": {
      "needs_background": "light"
     },
     "output_type": "display_data"
    }
   ],
   "source": [
    "plt.semilogx(hidden_layer_sizes, train_err_from_hls, 'b-o', label = 'train')\n",
    "plt.semilogx(hidden_layer_sizes, test_err_from_hls, 'r-o', label = 'test')\n",
    "plt.xlim([np.min(hidden_layer_sizes), np.max(hidden_layer_sizes)])\n",
    "plt.title('Error vs. hidden layer sizes')\n",
    "plt.xlabel('hidden layer sizes')\n",
    "plt.ylabel('error')\n",
    "plt.legend()"
   ]
  },
  {
   "cell_type": "markdown",
   "metadata": {},
   "source": [
    "## Summary"
   ]
  },
  {
   "cell_type": "markdown",
   "metadata": {},
   "source": [
    "We conducted research on the HR Analytics: Job Change of Data Scientists database, as we can see, the neural network showed the best result with an accuracy of 80%, this result can definitely be improved by selecting the necessary model hyperparameters.\n",
    "\n",
    "In the last part of the work, we trained an MLPClassifier with one hidden layer and identified the best hyperparameters for this model. It turned out that this model shows the least error when the parameter alpha = 0.1 and the number of hidden layers is 150. The model is prone to overfitting with a large number of hidden layers."
   ]
  }
 ],
 "metadata": {
  "kernelspec": {
   "display_name": "Python 3",
   "language": "python",
   "name": "python3"
  }
 },
 "nbformat": 4,
 "nbformat_minor": 4
}
